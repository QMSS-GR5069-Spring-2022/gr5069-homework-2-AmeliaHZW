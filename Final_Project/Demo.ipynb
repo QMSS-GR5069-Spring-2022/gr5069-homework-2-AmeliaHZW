{
 "cells": [
  {
   "cell_type": "code",
   "execution_count": null,
   "id": "8d7bc208",
   "metadata": {},
   "outputs": [],
   "source": [
    "pip install -i https://test.pypi.org/simple/ amazonfashionuk --upgrade"
   ]
  },
  {
   "cell_type": "code",
   "execution_count": 3,
   "id": "364c25f0",
   "metadata": {},
   "outputs": [],
   "source": [
    "import os, sys\n",
    "sys.path.append(os.getcwd())"
   ]
  },
  {
   "cell_type": "code",
   "execution_count": 7,
   "id": "ca88e81d",
   "metadata": {},
   "outputs": [
    {
     "ename": "AttributeError",
     "evalue": "module 'AmazonFashionUK' has no attribute 'category_avg_metric'",
     "output_type": "error",
     "traceback": [
      "\u001b[0;31m---------------------------------------------------------------------------\u001b[0m",
      "\u001b[0;31mAttributeError\u001b[0m                            Traceback (most recent call last)",
      "\u001b[0;32m<ipython-input-7-6fdadfd76ba6>\u001b[0m in \u001b[0;36m<module>\u001b[0;34m\u001b[0m\n\u001b[0;32m----> 1\u001b[0;31m \u001b[0ma\u001b[0m\u001b[0;34m.\u001b[0m\u001b[0mcategory_avg_metric\u001b[0m\u001b[0;34m(\u001b[0m\u001b[0mmetric\u001b[0m \u001b[0;34m=\u001b[0m \u001b[0;34m'rating'\u001b[0m\u001b[0;34m)\u001b[0m\u001b[0;34m\u001b[0m\u001b[0;34m\u001b[0m\u001b[0m\n\u001b[0m",
      "\u001b[0;31mAttributeError\u001b[0m: module 'AmazonFashionUK' has no attribute 'category_avg_metric'"
     ]
    }
   ],
   "source": [
    "a.category_avg_metric(metric = 'rating')"
   ]
  },
  {
   "cell_type": "code",
   "execution_count": 5,
   "id": "63f871bf",
   "metadata": {},
   "outputs": [
    {
     "name": "stdout",
     "output_type": "stream",
     "text": [
      "Note: you may need to restart the kernel to use updated packages.\n"
     ]
    }
   ],
   "source": [
    "pip list | grep AmazonFashionUK "
   ]
  },
  {
   "cell_type": "code",
   "execution_count": 6,
   "id": "bcda2c62",
   "metadata": {},
   "outputs": [],
   "source": [
    "import os\n",
    "import pandas as pd\n",
    "import matplotlib"
   ]
  },
  {
   "cell_type": "code",
   "execution_count": 7,
   "id": "94fcaef2",
   "metadata": {
    "scrolled": true
   },
   "outputs": [
    {
     "ename": "ImportError",
     "evalue": "cannot import name 'AmazonFashionUK' from 'AmazonFashionUK' (unknown location)",
     "output_type": "error",
     "traceback": [
      "\u001b[0;31m---------------------------------------------------------------------------\u001b[0m",
      "\u001b[0;31mImportError\u001b[0m                               Traceback (most recent call last)",
      "\u001b[0;32m<ipython-input-7-b3f2601b4a2e>\u001b[0m in \u001b[0;36m<module>\u001b[0;34m\u001b[0m\n\u001b[0;32m----> 1\u001b[0;31m \u001b[0;32mfrom\u001b[0m \u001b[0mAmazonFashionUK\u001b[0m \u001b[0;32mimport\u001b[0m \u001b[0mAmazonFashionUK\u001b[0m \u001b[0;32mas\u001b[0m \u001b[0ma\u001b[0m\u001b[0;34m\u001b[0m\u001b[0;34m\u001b[0m\u001b[0m\n\u001b[0m",
      "\u001b[0;31mImportError\u001b[0m: cannot import name 'AmazonFashionUK' from 'AmazonFashionUK' (unknown location)"
     ]
    }
   ],
   "source": [
    "from AmazonFashionUK import AmazonFashionUK as a"
   ]
  },
  {
   "cell_type": "code",
   "execution_count": 9,
   "id": "bcc070fa",
   "metadata": {},
   "outputs": [],
   "source": [
    "import sys"
   ]
  },
  {
   "cell_type": "code",
   "execution_count": 10,
   "id": "3524752f",
   "metadata": {},
   "outputs": [
    {
     "name": "stdout",
     "output_type": "stream",
     "text": [
      "['/Users/ameliahzw/Desktop/ModernDataStructure/Huang_Zhiwen/Final_Project', '/Users/ameliahzw/opt/anaconda3/lib/python38.zip', '/Users/ameliahzw/opt/anaconda3/lib/python3.8', '/Users/ameliahzw/opt/anaconda3/lib/python3.8/lib-dynload', '', '/Users/ameliahzw/.local/lib/python3.8/site-packages', '/Users/ameliahzw/opt/anaconda3/lib/python3.8/site-packages', '/Users/ameliahzw/opt/anaconda3/lib/python3.8/site-packages/aeosa', '/Users/ameliahzw/opt/anaconda3/lib/python3.8/site-packages/locket-0.2.1-py3.8.egg', '/Users/ameliahzw/opt/anaconda3/lib/python3.8/site-packages/IPython/extensions', '/Users/ameliahzw/.ipython', '..', '/Users/ameliahzw/Desktop/ModernDataStructure/Huang_Zhiwen/Final_Project']\n"
     ]
    }
   ],
   "source": [
    "print(sys.path)"
   ]
  },
  {
   "cell_type": "code",
   "execution_count": null,
   "id": "12fb9bdf",
   "metadata": {},
   "outputs": [
    {
     "name": "stdout",
     "output_type": "stream",
     "text": [
      "Found existing installation: amazonfashionuk 0.1.0\r\n",
      "Uninstalling amazonfashionuk-0.1.0:\r\n",
      "  Would remove:\r\n",
      "    /Users/ameliahzw/opt/anaconda3/lib/python3.8/site-packages/amazonfashionuk-0.1.0.dist-info/*\r\n",
      "    /Users/ameliahzw/opt/anaconda3/lib/python3.8/site-packages/amazonfashionuk/*\r\n",
      "Proceed (y/n)? "
     ]
    }
   ],
   "source": [
    "pip uninstall https://test.pypi.org/simple/ amazonfashionuk"
   ]
  },
  {
   "cell_type": "code",
   "execution_count": null,
   "id": "03bb9f21",
   "metadata": {},
   "outputs": [],
   "source": [
    "y"
   ]
  },
  {
   "cell_type": "code",
   "execution_count": null,
   "id": "1ef855bb",
   "metadata": {},
   "outputs": [],
   "source": []
  }
 ],
 "metadata": {
  "kernelspec": {
   "display_name": "Python 3",
   "language": "python",
   "name": "python3"
  },
  "language_info": {
   "codemirror_mode": {
    "name": "ipython",
    "version": 3
   },
   "file_extension": ".py",
   "mimetype": "text/x-python",
   "name": "python",
   "nbconvert_exporter": "python",
   "pygments_lexer": "ipython3",
   "version": "3.8.8"
  }
 },
 "nbformat": 4,
 "nbformat_minor": 5
}
