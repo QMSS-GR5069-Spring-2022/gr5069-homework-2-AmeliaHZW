{
 "cells": [
  {
   "cell_type": "code",
   "execution_count": 1,
   "id": "24c3c88e",
   "metadata": {},
   "outputs": [],
   "source": [
    "import time\n",
    "import numpy as np\n",
    "import pandas as pd\n",
    "import matplotlib.pyplot as plt\n",
    "import seaborn as sns\n",
    "\n",
    "sns.set_style('darkgrid')\n",
    "%matplotlib inline"
   ]
  },
  {
   "cell_type": "code",
   "execution_count": 2,
   "id": "5a5e68e4",
   "metadata": {},
   "outputs": [],
   "source": [
    "df = pd.read_csv('tiktok.csv')"
   ]
  },
  {
   "cell_type": "code",
   "execution_count": 3,
   "id": "c9ecae07",
   "metadata": {},
   "outputs": [
    {
     "name": "stdout",
     "output_type": "stream",
     "text": [
      "<class 'pandas.core.frame.DataFrame'>\n",
      "RangeIndex: 6746 entries, 0 to 6745\n",
      "Data columns (total 23 columns):\n",
      " #   Column            Non-Null Count  Dtype  \n",
      "---  ------            --------------  -----  \n",
      " 0   track_id          6746 non-null   object \n",
      " 1   track_name        6746 non-null   object \n",
      " 2   artist_id         6746 non-null   object \n",
      " 3   artist_name       6746 non-null   object \n",
      " 4   album_id          6746 non-null   object \n",
      " 5   duration          6746 non-null   int64  \n",
      " 6   release_date      6746 non-null   object \n",
      " 7   popularity        6746 non-null   int64  \n",
      " 8   danceability      6746 non-null   float64\n",
      " 9   energy            6746 non-null   float64\n",
      " 10  key               6746 non-null   int64  \n",
      " 11  loudness          6746 non-null   float64\n",
      " 12  mode              6746 non-null   int64  \n",
      " 13  speechiness       6746 non-null   float64\n",
      " 14  acousticness      6746 non-null   float64\n",
      " 15  instrumentalness  6746 non-null   float64\n",
      " 16  liveness          6746 non-null   float64\n",
      " 17  valence           6746 non-null   float64\n",
      " 18  tempo             6746 non-null   float64\n",
      " 19  playlist_id       6746 non-null   object \n",
      " 20  playlist_name     6746 non-null   object \n",
      " 21  duration_mins     6746 non-null   float64\n",
      " 22  genre             6746 non-null   object \n",
      "dtypes: float64(10), int64(4), object(9)\n",
      "memory usage: 1.2+ MB\n"
     ]
    }
   ],
   "source": [
    "df.info()"
   ]
  },
  {
   "cell_type": "code",
   "execution_count": 6,
   "id": "b72bd1fa",
   "metadata": {},
   "outputs": [
    {
     "data": {
      "text/plain": [
       "Doja Cat               92\n",
       "Megan Thee Stallion    64\n",
       "DJ Challenge X         64\n",
       "Eduardo Luzquiños      60\n",
       "Gill the ILL           55\n",
       "                       ..\n",
       "Crisaunt                1\n",
       "Louis Tomlinson         1\n",
       "Dror                    1\n",
       "Chema Rivas             1\n",
       "Z. Weina                1\n",
       "Name: artist_name, Length: 2086, dtype: int64"
      ]
     },
     "execution_count": 6,
     "metadata": {},
     "output_type": "execute_result"
    }
   ],
   "source": [
    "df['artist_name'].value_counts()"
   ]
  },
  {
   "cell_type": "code",
   "execution_count": null,
   "id": "b831240d",
   "metadata": {},
   "outputs": [],
   "source": []
  }
 ],
 "metadata": {
  "kernelspec": {
   "display_name": "Python 3",
   "language": "python",
   "name": "python3"
  },
  "language_info": {
   "codemirror_mode": {
    "name": "ipython",
    "version": 3
   },
   "file_extension": ".py",
   "mimetype": "text/x-python",
   "name": "python",
   "nbconvert_exporter": "python",
   "pygments_lexer": "ipython3",
   "version": "3.8.8"
  }
 },
 "nbformat": 4,
 "nbformat_minor": 5
}
