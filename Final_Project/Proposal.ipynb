{
 "cells": [
  {
   "cell_type": "markdown",
   "id": "599f6c65",
   "metadata": {},
   "source": [
    "# Final Project of Zhiwen Huang (zh2387)  "
   ]
  },
  {
   "cell_type": "markdown",
   "id": "2bf6df47",
   "metadata": {},
   "source": [
    "# Name of project  "
   ]
  },
  {
   "cell_type": "markdown",
   "id": "ea99698f",
   "metadata": {},
   "source": [
    "Food Nutrition and Wholesale Information"
   ]
  },
  {
   "cell_type": "markdown",
   "id": "10c201c5",
   "metadata": {},
   "source": [
    "# Type of project  "
   ]
  },
  {
   "cell_type": "markdown",
   "id": "b76c1c66",
   "metadata": {},
   "source": [
    "API Client (A)"
   ]
  },
  {
   "cell_type": "markdown",
   "id": "83c19de8",
   "metadata": {},
   "source": [
    "# Brief description of the purpose"
   ]
  },
  {
   "cell_type": "markdown",
   "id": "2a1375fe",
   "metadata": {},
   "source": [
    "In modern society, the attention that people put into eating healthily has increased. However, stores that provides such information is limited. Fast food stores such as Starbucks and Sweet Greens has integrated Calorie into their menu for customers reference. The purpose of this project is to provide a channel for calculating nutritional information of the original ingredients with some aggregation. As a result, restaurant has a easier way to provide these to customers. The other parts of the project would like to match these ingredients to look up their wholesale information such as price information. "
   ]
  },
  {
   "cell_type": "markdown",
   "id": "58e3c504",
   "metadata": {},
   "source": [
    "# Links to data sources"
   ]
  },
  {
   "cell_type": "markdown",
   "id": "db2f158c",
   "metadata": {},
   "source": [
    "## API documentation "
   ]
  },
  {
   "cell_type": "markdown",
   "id": "f319c0bc",
   "metadata": {},
   "source": [
    "### FoodData Central API by U.S. Department of Agriculture"
   ]
  },
  {
   "cell_type": "markdown",
   "id": "079c37c0",
   "metadata": {},
   "source": [
    "https://fdc.nal.usda.gov/api-guide.html"
   ]
  },
  {
   "cell_type": "markdown",
   "id": "acb2435a",
   "metadata": {},
   "source": [
    "# Technical steps / challenges I plan to address  "
   ]
  },
  {
   "cell_type": "markdown",
   "id": "ac23ba54",
   "metadata": {},
   "source": [
    "1. After the API authentification step, send a GET request.\n",
    "2. Parse response and create a dataset in data frame format. \n",
    "3. Dealing with missing data, possibly do some imputation. \n",
    "4. Normalize numerical columns, and some basic regularization for text columns. \n",
    "5. Create the API client  \n",
    "    a. parameters: ingredients, amount or size, brand, name of recipes etc  \n",
    "    b. functions:  \n",
    "    Ideally the API client would provide several calculation usage.  \n",
    "      i) Location to Purchase: in which specific store the raw ingredients are available.  \n",
    "      ii) Cost Analysis: available in multiple retails, display a comparison of price and brands.   \n",
    "      iii) Nutrition Information: show the aggregation of nutritional value for each dishes when ingredients and the amount are given; store the results into the recipe nutrition handbook as result.  \n",
    "      iv) Stock: able to updating stock of ingredients by adding and deleting, providing a way to track the stock of ingredients available. "
   ]
  },
  {
   "cell_type": "markdown",
   "id": "5cf537e9",
   "metadata": {},
   "source": [
    "# Are there any significant hurdles that you have doubts about? Would not solving them render the project incomplete?  \n"
   ]
  },
  {
   "cell_type": "markdown",
   "id": "3f1bb6ea",
   "metadata": {},
   "source": [
    "I'm still finding retail APIs for the Cost Analysis part. Some of the wholesale APIs need users to be eligible store owners for access. Not solving this might make it impossible for some of the functions that I outlined above to realize, but I would instead think of other interesting output for the API clients. "
   ]
  },
  {
   "cell_type": "code",
   "execution_count": null,
   "id": "f3b51924",
   "metadata": {},
   "outputs": [],
   "source": []
  }
 ],
 "metadata": {
  "kernelspec": {
   "display_name": "Python 3",
   "language": "python",
   "name": "python3"
  },
  "language_info": {
   "codemirror_mode": {
    "name": "ipython",
    "version": 3
   },
   "file_extension": ".py",
   "mimetype": "text/x-python",
   "name": "python",
   "nbconvert_exporter": "python",
   "pygments_lexer": "ipython3",
   "version": "3.8.8"
  }
 },
 "nbformat": 4,
 "nbformat_minor": 5
}
